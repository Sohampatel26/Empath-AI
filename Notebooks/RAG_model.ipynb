{
 "cells": [
  {
   "cell_type": "code",
   "execution_count": 3,
   "metadata": {},
   "outputs": [
    {
     "name": "stderr",
     "output_type": "stream",
     "text": [
      "c:\\Users\\gupta\\Documents\\GitHub\\Empath-AI\\empath_env\\Lib\\site-packages\\tqdm\\auto.py:21: TqdmWarning: IProgress not found. Please update jupyter and ipywidgets. See https://ipywidgets.readthedocs.io/en/stable/user_install.html\n",
      "  from .autonotebook import tqdm as notebook_tqdm\n"
     ]
    }
   ],
   "source": [
    "import google.generativeai as genai"
   ]
  },
  {
   "cell_type": "markdown",
   "metadata": {},
   "source": [
    "Key Configuration"
   ]
  },
  {
   "cell_type": "code",
   "execution_count": 4,
   "metadata": {},
   "outputs": [],
   "source": [
    "from dotenv import load_dotenv\n",
    "import os"
   ]
  },
  {
   "cell_type": "code",
   "execution_count": 9,
   "metadata": {},
   "outputs": [],
   "source": [
    "load_dotenv()\n",
    "google_key=os.getenv('GOOGLE_API_KEY')\n",
    "genai.configure(api_key=google_key)\n"
   ]
  },
  {
   "cell_type": "markdown",
   "metadata": {},
   "source": [
    "Reading and Storing the Document"
   ]
  },
  {
   "cell_type": "code",
   "execution_count": 15,
   "metadata": {},
   "outputs": [],
   "source": [
    "import fitz"
   ]
  },
  {
   "cell_type": "code",
   "execution_count": 16,
   "metadata": {},
   "outputs": [],
   "source": [
    "# Function to merge multiple PDFs into one\n",
    "def merge_pdfs_from_folder(folder_path, output_pdf_path):\n",
    "    \"\"\"\n",
    "    Merges all PDFs in the specified folder into a single PDF.\n",
    "    \n",
    "    Args:\n",
    "        folder_path (str): Path to the folder containing PDFs.\n",
    "        output_pdf_path (str): Path to save the merged PDF.\n",
    "        \n",
    "    Returns:\n",
    "        str: Path to the merged PDF.\n",
    "    \"\"\"\n",
    "    # Create a new empty PDF document\n",
    "    output_pdf = fitz.open()\n",
    "\n",
    "    # Loop through all files in the folder\n",
    "    for file_name in os.listdir(folder_path):\n",
    "        if file_name.endswith(\".pdf\"):  # Only consider PDF files\n",
    "            file_path = os.path.join(folder_path, file_name)\n",
    "            input_pdf = fitz.open(file_path)  # Open the PDF\n",
    "            output_pdf.insert_pdf(input_pdf)  # Insert pages into the output PDF\n",
    "            input_pdf.close()  # Close the input PDF after merging\n",
    "\n",
    "    # Save the merged PDF\n",
    "    output_pdf.save(output_pdf_path)\n",
    "    output_pdf.close()\n",
    "\n",
    "    return output_pdf_path"
   ]
  },
  {
   "cell_type": "code",
   "execution_count": 31,
   "metadata": {},
   "outputs": [],
   "source": [
    "final_pdf=merge_pdfs_from_folder(\"Empath-AI/Data/Mental_Health-PDFS\",\"Empath-AI/Data/Final.pdf\")"
   ]
  },
  {
   "cell_type": "code",
   "execution_count": 32,
   "metadata": {},
   "outputs": [],
   "source": [
    "# Function to extract text from a PDF\n",
    "def extract_text_from_pdf(pdf_path):\n",
    "    doc = fitz.open(pdf_path)\n",
    "    text = \"\"\n",
    "    for page in doc:\n",
    "        text += page.get_text()\n",
    "    return text"
   ]
  },
  {
   "cell_type": "code",
   "execution_count": 34,
   "metadata": {},
   "outputs": [],
   "source": [
    "extracted_text=extract_text_from_pdf(\"Empath-AI/Data/Final.pdf\")"
   ]
  },
  {
   "cell_type": "code",
   "execution_count": 39,
   "metadata": {},
   "outputs": [],
   "source": [
    "from langchain_text_splitters import RecursiveCharacterTextSplitter\n",
    "\n",
    "def split_text_into_chunks(text):\n",
    "    text_splitter=RecursiveCharacterTextSplitter(chunk_size=500,chunk_overlap=50)\n",
    "    chunks = text_splitter.split_text(text)\n",
    "    return chunks\n",
    "\n"
   ]
  },
  {
   "cell_type": "code",
   "execution_count": 40,
   "metadata": {},
   "outputs": [],
   "source": [
    "extracted_chunks=split_text_into_chunks(extracted_text)"
   ]
  },
  {
   "cell_type": "code",
   "execution_count": 42,
   "metadata": {},
   "outputs": [
    {
     "name": "stdout",
     "output_type": "stream",
     "text": [
      "Chunk 0: MENTAL \n",
      "HEALTH CARE\n",
      " in Settings Where Mental Health \n",
      "Resources Are Limited\n",
      "An Easy-Reference \n",
      "GUIDEBOOK \n",
      "for Healthcare Providers\n",
      " in Developed and Developing Countries\n",
      "PA M E L A  S M I T H ,  M D\n",
      " \n",
      "Chunk 1: An Easy-Reference Guidebook for Healthcare Providers \n",
      "in Developed and Developing Countries\n",
      " Copyright © 2014 Pamela Smith.\n",
      "All rights reserved. No part of this book may be used or reproduced by any m\n",
      "Chunk 2: Archway Publishing books may be ordered through booksellers or by contacting:\n",
      "Archway Publishing\n",
      "1663 Liberty Drive\n",
      "Bloomington, IN 47403\n",
      "www.archwaypublishing.com\n",
      "1-(888)-242-5904\n",
      "Because of the dyna\n",
      "Chunk 3: views of the publisher, and the publisher hereby disclaims any responsibility for them.\n",
      "The \u0003 eld guide is not a substitute for comprehensive psychiatry, psychology, or \n",
      "other related mental health te\n",
      "Chunk 4: describe generally accepted practices. Application of this information in a particular \n",
      "situation remains the responsibility of the practitioner or health care provider.\n",
      "Certain stock imagery © Thinks\n"
     ]
    }
   ],
   "source": [
    "for i, chunk in enumerate(extracted_chunks[:5]):\n",
    "    print(f\"Chunk {i}: {chunk[:200]}\") "
   ]
  },
  {
   "cell_type": "code",
   "execution_count": 43,
   "metadata": {},
   "outputs": [],
   "source": [
    "def generate_gemini_embeddings(chunks):\n",
    "    embeddings = []\n",
    "    for chunk in chunks:\n",
    "        if chunk.strip():  # Ensure the chunk is not empty\n",
    "            response = genai.embed_content(\n",
    "                model=\"models/text-embedding-004\",  # Gemini Pro embedding model\n",
    "                content=chunk\n",
    "            )\n",
    "            \n",
    "            # Now we directly access 'embedding' as it contains the values directly\n",
    "            if isinstance(response, dict) and 'embedding' in response:\n",
    "                embeddings.append(response['embedding'])  # Append the embedding directly\n",
    "    return embeddings"
   ]
  },
  {
   "cell_type": "code",
   "execution_count": 44,
   "metadata": {},
   "outputs": [],
   "source": [
    "embedded_data=generate_gemini_embeddings(extracted_chunks)"
   ]
  },
  {
   "cell_type": "code",
   "execution_count": null,
   "metadata": {},
   "outputs": [],
   "source": [
    "len(embedded_data[4])"
   ]
  },
  {
   "cell_type": "code",
   "execution_count": null,
   "metadata": {},
   "outputs": [],
   "source": [
    "load_dotenv()\n",
    "pinecone_key=os.getenv(\"PINECONE_API_KEY\")\n",
    "print(pinecone_key)"
   ]
  },
  {
   "cell_type": "code",
   "execution_count": null,
   "metadata": {},
   "outputs": [],
   "source": [
    "from pinecone import Pinecone\n",
    "pc=Pinecone(api_key=pinecone_key)\n",
    "index=pc.Index(\"empath-ai\")"
   ]
  },
  {
   "cell_type": "code",
   "execution_count": null,
   "metadata": {},
   "outputs": [],
   "source": []
  },
  {
   "cell_type": "code",
   "execution_count": null,
   "metadata": {},
   "outputs": [],
   "source": []
  },
  {
   "cell_type": "code",
   "execution_count": null,
   "metadata": {},
   "outputs": [],
   "source": []
  },
  {
   "cell_type": "code",
   "execution_count": null,
   "metadata": {},
   "outputs": [],
   "source": []
  }
 ],
 "metadata": {
  "kernelspec": {
   "display_name": "Python 3",
   "language": "python",
   "name": "python3"
  },
  "language_info": {
   "codemirror_mode": {
    "name": "ipython",
    "version": 3
   },
   "file_extension": ".py",
   "mimetype": "text/x-python",
   "name": "python",
   "nbconvert_exporter": "python",
   "pygments_lexer": "ipython3",
   "version": "3.12.7"
  }
 },
 "nbformat": 4,
 "nbformat_minor": 2
}
